{
 "cells": [
  {
   "cell_type": "code",
   "execution_count": null,
   "metadata": {},
   "outputs": [],
   "source": [
    "import matplotlib.pyplot as plt\n",
    "from matplotlib.dates import date2num\n",
    "import datetime\n",
    "import numpy as np"
   ]
  },
  {
   "cell_type": "code",
   "execution_count": null,
   "metadata": {},
   "outputs": [],
   "source": [
    "#region color\n",
    "from matplotlib import cm\n",
    "import matplotlib\n",
    "cmap = matplotlib.cm.get_cmap('tab10')\n",
    "norm = matplotlib.colors.Normalize(vmin=0, vmax=3)\n",
    "rgba = cmap(norm(0))\n",
    "rgba1 = cmap(norm(1))\n",
    "\n",
    "def autolabel(ax,rects):\n",
    "    \"\"\"\n",
    "    Attach a text label above each bar displaying its height\n",
    "    \"\"\"\n",
    "    for rect in rects:\n",
    "        height = rect.get_height()\n",
    "        ax.text(rect.get_x() + rect.get_width()/2., 0.97*height,\n",
    "                '%d' % int(height),\n",
    "                ha='center', va='bottom')\n",
    "\n",
    "#endregion"
   ]
  },
  {
   "cell_type": "code",
   "execution_count": null,
   "metadata": {},
   "outputs": [],
   "source": [
    "f , ax = plt.subplots(1,2,figsize=(10,6))\n",
    "\n",
    "N =4\n",
    "ind = np.arange(N)\n",
    "width = 0.8\n",
    "opacity = 0.7\n",
    "\n",
    "temp = [ 0, 100 , 78 , 0 ]\n",
    "time = [ 0 , 166 , 132 , 0]\n",
    "\n",
    "ind1=[1] # xticks 는 [0,1,2,3]이므로, 총 3개가 들어간다. 하지만 1번째에 166 이란 값이 들어가도록 이렇게 한다. \n",
    "time1 = [166]\n",
    "temp1 = [100]\n",
    "ind2=[2]\n",
    "time2 = [132]\n",
    "temp2 = [78]"
   ]
  },
  {
   "cell_type": "code",
   "execution_count": null,
   "metadata": {},
   "outputs": [],
   "source": [
    "#한꺼번에 플롯도 가능하다.하지만 레전드 지정이 안된다. \n",
    "#ax[0].bar(ind , time , alpha = opacity ,width = width , label='4.9 Ghz') "
   ]
  },
  {
   "cell_type": "code",
   "execution_count": null,
   "metadata": {},
   "outputs": [],
   "source": [
    "#bar 의 각 legend를 다르게 하기 위해서 , 나눠서 플롯을 하였다. \n",
    "rect11 = ax[0].bar(ind1 , time1 , alpha = opacity , width = width , label='4.4 Ghz') \n",
    "rect12 = ax[0].bar(ind2 , time2 , alpha = opacity ,width = width , label='4.9 Ghz') \n",
    "ax[0].get_children()[0].set_color(rgba) # children은 rectangle을 반환한다. \n",
    "ax[0].get_children()[1].set_color(rgba1)\n",
    "ax[0].set_ybound( 100 , 170)\n",
    "ax[0].set_xticks(ind) # position and number of ticks\n",
    "ax[0].set_xticklabels([\"\",\"Before\",\"After\",\"\"])\n",
    "ax[0].set_title(\"Task Time ( Lower is better)\")\n",
    "ax[0].set_ylabel(\" Time ( ms )\")\n",
    "ax[0].legend()\n",
    "autolabel(ax[0],rect11)\n",
    "autolabel(ax[0],rect12)\n",
    "\n",
    "rect21 = ax[1].bar(ind1 , temp1 , alpha = opacity , width = width , label='4.4 Ghz') \n",
    "rect22 = ax[1].bar(ind2 , temp2 , alpha = opacity ,width = width , label='4.9 Ghz') \n",
    "ax[1].get_children()[0].set_color(rgba) \n",
    "ax[1].get_children()[1].set_color(rgba1)\n",
    "ax[1].set_ybound( 110 , 50)\n",
    "ax[1].set_xticks(ind) # position and number of ticks\n",
    "ax[1].set_xticklabels([\"\",\"Before\",\"After\",\"\"])\n",
    "ax[1].set_title(\"Average Temperature ( Lower is better)\")\n",
    "ax[1].set_ylabel(\"Temperature( C )\")\n",
    "ax[1].legend()\n",
    "autolabel(ax[1],rect21)\n",
    "autolabel(ax[1],rect22)\n",
    "plt.show()\n",
    "\n",
    "#https://matplotlib.org/2.1.1/gallery/statistics/barchart_demo.html\n",
    "#https://matplotlib.org/api/axes_api.html"
   ]
  }
 ],
 "metadata": {
  "kernelspec": {
   "display_name": "Python [conda env:tf18]",
   "language": "python",
   "name": "conda-env-tf18-py"
  },
  "language_info": {
   "codemirror_mode": {
    "name": "ipython",
    "version": 3
   },
   "file_extension": ".py",
   "mimetype": "text/x-python",
   "name": "python",
   "nbconvert_exporter": "python",
   "pygments_lexer": "ipython3",
   "version": "3.6.5"
  }
 },
 "nbformat": 4,
 "nbformat_minor": 2
}
